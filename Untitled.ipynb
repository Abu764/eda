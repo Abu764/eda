{
 "cells": [
  {
   "cell_type": "code",
   "execution_count": null,
   "id": "7fe97a45",
   "metadata": {},
   "outputs": [],
   "source": [
    "import pandas as pd # dataframe operation\n",
    "import numpy as np # math operation\n",
    "import matplotlib.pyplot as plt # diagram /plots\n",
    "import seaborn as sns # diagram /plots"
   ]
  },
  {
   "cell_type": "code",
   "execution_count": null,
   "id": "9c2dc8bc",
   "metadata": {},
   "outputs": [],
   "source": []
  }
 ],
 "metadata": {
  "kernelspec": {
   "display_name": "Python 3 (ipykernel)",
   "language": "python",
   "name": "python3"
  },
  "language_info": {
   "codemirror_mode": {
    "name": "ipython",
    "version": 3
   },
   "file_extension": ".py",
   "mimetype": "text/x-python",
   "name": "python",
   "nbconvert_exporter": "python",
   "pygments_lexer": "ipython3",
   "version": "3.11.5"
  }
 },
 "nbformat": 4,
 "nbformat_minor": 5
}
